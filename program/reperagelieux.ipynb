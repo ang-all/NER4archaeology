{
 "cells": [
  {
   "cell_type": "code",
   "execution_count": 1,
   "metadata": {},
   "outputs": [],
   "source": [
    "import io\n",
    "import glob\n",
    "import pandas as pd\n",
    "import numpy\n",
    "import collections\n",
    "from csv import reader"
   ]
  },
  {
   "cell_type": "code",
   "execution_count": 15,
   "metadata": {},
   "outputs": [
    {
     "data": {
      "text/plain": [
       "275"
      ]
     },
     "execution_count": 15,
     "metadata": {},
     "output_type": "execute_result"
    }
   ],
   "source": [
    "#pour lister les absolute path des fichiers à traiter\n",
    "corpusde = glob.glob(\"/home/angelique/Documents/these/corpus/corpus/corpus_total/corp_langue/fr/*.txt\")\n",
    "#print(corpusfr)\n",
    "len(corpusde) #on vérifie combien il y a de fichiers"
   ]
  },
  {
   "cell_type": "code",
   "execution_count": 16,
   "metadata": {},
   "outputs": [
    {
     "data": {
      "text/plain": [
       "['rev_arch1872_2',\n",
       " 'rev_arch1914_2',\n",
       " 'BCH1886',\n",
       " 'BCH1896',\n",
       " 'letronne1885_corr',\n",
       " 'seure1906_corr',\n",
       " 'rev_arch1884_1',\n",
       " 'ridder1901_corr',\n",
       " 'rev_arch1877_1',\n",
       " 'rayet1884_2_corr']"
      ]
     },
     "execution_count": 16,
     "metadata": {},
     "output_type": "execute_result"
    }
   ],
   "source": [
    "#pour lister les textes en virant les scories qui troublent les noms de colonnes\n",
    "corpusde_propre =[]\n",
    "var = []\n",
    "k=0\n",
    "while k<len(corpusde):\n",
    "    var.append(corpusde[k].replace('/home/angelique/Documents/these/corpus/corpus/corpus_total/corp_langue/fr/',''))\n",
    "    corpusde_propre.append(var[k].replace('.txt',''))\n",
    "    k+=1\n",
    "#print(corpusde_propre)\n",
    "\n",
    "len(corpusde_propre)\n",
    "corpusde_propre[:10]"
   ]
  },
  {
   "cell_type": "code",
   "execution_count": 7,
   "metadata": {
    "scrolled": true
   },
   "outputs": [
    {
     "data": {
      "text/plain": [
       "<bound method NDFrame.head of          lieux\n",
       "0      Athènes\n",
       "1        Argos\n",
       "2      Éleusis\n",
       "3      Eleusis\n",
       "4      Pergame\n",
       "5     Tirynthe\n",
       "6       Sparte\n",
       "7       Éphèse\n",
       "8       Ephèse\n",
       "9       Ephese\n",
       "10      Priène\n",
       "11    Épidaure\n",
       "12    Epidaure\n",
       "13        Élis\n",
       "14        Elis\n",
       "15         Kos\n",
       "16  Erechtéion\n",
       "17  Erechteion\n",
       "18  Érechteion\n",
       "19       Milet\n",
       "20    Syracuse\n",
       "21     Érétrie\n",
       "22     Erétrie\n",
       "23      Mégare\n",
       "24   Orchomène\n",
       "25       Samos\n",
       "26     Olympia\n",
       "27     Olympie>"
      ]
     },
     "execution_count": 7,
     "metadata": {},
     "output_type": "execute_result"
    }
   ],
   "source": [
    "lieuxdic = pd.read_csv(\"/home/angelique/Documents/these/reperage_EN/lieux_de.csv\", sep='\\t')\n",
    "lieuxdic = lieuxdic.drop_duplicates(keep='first')\n",
    "lieuxdic.head"
   ]
  },
  {
   "cell_type": "code",
   "execution_count": 5,
   "metadata": {},
   "outputs": [],
   "source": [
    "lieuxdic = ['Olympia']"
   ]
  },
  {
   "cell_type": "code",
   "execution_count": 8,
   "metadata": {},
   "outputs": [],
   "source": [
    "listelieux = [] #création d'une liste de noms à insérer plus tard dans les résultats. On prend le temps de supprimer des \\n fâcheux\n",
    "with open(\"/home/angelique/Documents/these/reperage_EN/lieux_de.csv\", 'r') as f:\n",
    "    for line in f:\n",
    "        v = str(line)\n",
    "        v = v.replace('\\n','')\n",
    "        listelieux.append(v)\n",
    "listelieux.pop(0) #on supprime l'index du tableau puisqu'on remettra encore un nouvel index dans le tableau des résultats\n",
    "listelieux = list(dict.fromkeys(listelieux))"
   ]
  },
  {
   "cell_type": "code",
   "execution_count": 9,
   "metadata": {},
   "outputs": [],
   "source": [
    " #création d'un hashset avec tous les noms\n",
    "lieux = set((lieuxdic['lieux'].values)) "
   ]
  },
  {
   "cell_type": "code",
   "execution_count": 10,
   "metadata": {},
   "outputs": [],
   "source": [
    "def reperagelieux(listeLieux, corpusde_propre):\n",
    "    results = pd.DataFrame()\n",
    "    k=0\n",
    "    ponctuation = [',','.',':',';','!','?','\"','»',')','(','„','»','«','”']\n",
    "    listeLieux = [[] for i in range(len(corpusde_propre))] #on fait une liste de liste. chaque liste contiendra le nom cherché puis le nombre d'occurence de chaque nom\n",
    "    results = pd.DataFrame() #on crée un df qui contiendra les résultats\n",
    "    results.insert(loc = 0, column='lieux', value = listelieux) #on met dans le tableau des résultats la première colonne qui est les noms de personnage\n",
    "    while k < len(corpusde_propre):\n",
    "        infile = open(corpusde[k],encoding = 'utf-8')\n",
    "        #print(corpus[k])\n",
    "        text = infile.read()\n",
    "        infile.close()\n",
    "        for punct in ponctuation:\n",
    "            text = text.replace(punct, ' '+punct)\n",
    "        #text = text.title() #on fait en sorte que tous les mots commencent par une majuscule (comme dans la liste des noms qu'on cherche) en fait non sinon on a du bruit comme des cons\n",
    "        texte_liste = text.split() #On transforme le texte en liste de mots séparés par des espaces\n",
    "        texte_lieux = [token for token in texte_liste if token in lieux] #on stripe les textes des mots qui ne font pas partie de ma liste de noms (but alléger le code)\n",
    "        compte = collections.Counter(texte_lieux) #dictionnaire avec en clé un nom et en valeur le support associé (la fréquence quoi, on parle l'académique ici)\n",
    "        #print(compte.most_common(5)) #on lui fait imprimer les compteurs des 5 max de la ligne\n",
    "        liste_compte = [compte[mot] for mot in lieuxdic['lieux'].values] #liste compréhension qui entre une colonne avec les comptages\n",
    "        results.insert(loc = k+1,column = corpusde_propre[k], value = liste_compte)\n",
    "        k+=1\n",
    "    return results"
   ]
  },
  {
   "cell_type": "code",
   "execution_count": 17,
   "metadata": {},
   "outputs": [
    {
     "name": "stderr",
     "output_type": "stream",
     "text": [
      "/home/angelique/.local/lib/python3.9/site-packages/IPython/core/interactiveshell.py:3441: PerformanceWarning: DataFrame is highly fragmented.  This is usually the result of calling `frame.insert` many times, which has poor performance.  Consider joining all columns at once using pd.concat(axis=1) instead.  To get a de-fragmented frame, use `newframe = frame.copy()`\n",
      "  exec(code_obj, self.user_global_ns, self.user_ns)\n"
     ]
    }
   ],
   "source": [
    "listeLieux = []\n",
    "\n",
    "results = reperagelieux(listeLieux, corpusde_propre) "
   ]
  },
  {
   "cell_type": "code",
   "execution_count": 18,
   "metadata": {
    "scrolled": true
   },
   "outputs": [
    {
     "name": "stderr",
     "output_type": "stream",
     "text": [
      "<ipython-input-18-a61a6c6fca6c>:1: FutureWarning: Dropping of nuisance columns in DataFrame reductions (with 'numeric_only=None') is deprecated; in a future version this will raise TypeError.  Select only valid columns before calling the reduction.\n",
      "  results['freq']=results.sum(axis=1) #on crée une colonne fréquence avec la somme\n"
     ]
    }
   ],
   "source": [
    "results['freq']=results.sum(axis=1) #on crée une colonne fréquence avec la somme\n",
    "results = results.sort_values('freq',ascending=False) #on classe par ordre décroissant\n",
    "#on se prend un performance warning mais on s'en fiche ça marche"
   ]
  },
  {
   "cell_type": "code",
   "execution_count": 19,
   "metadata": {},
   "outputs": [
    {
     "data": {
      "text/html": [
       "<div>\n",
       "<style scoped>\n",
       "    .dataframe tbody tr th:only-of-type {\n",
       "        vertical-align: middle;\n",
       "    }\n",
       "\n",
       "    .dataframe tbody tr th {\n",
       "        vertical-align: top;\n",
       "    }\n",
       "\n",
       "    .dataframe thead th {\n",
       "        text-align: right;\n",
       "    }\n",
       "</style>\n",
       "<table border=\"1\" class=\"dataframe\">\n",
       "  <thead>\n",
       "    <tr style=\"text-align: right;\">\n",
       "      <th></th>\n",
       "      <th>lieux</th>\n",
       "      <th>rev_arch1872_2</th>\n",
       "      <th>rev_arch1914_2</th>\n",
       "      <th>BCH1886</th>\n",
       "      <th>BCH1896</th>\n",
       "      <th>letronne1885_corr</th>\n",
       "      <th>seure1906_corr</th>\n",
       "      <th>rev_arch1884_1</th>\n",
       "      <th>ridder1901_corr</th>\n",
       "      <th>rev_arch1877_1</th>\n",
       "      <th>...</th>\n",
       "      <th>rev_arch1906_2</th>\n",
       "      <th>rev_arch1894_2</th>\n",
       "      <th>BCH1877</th>\n",
       "      <th>daremberg4_1_1873</th>\n",
       "      <th>rev_arch1898_1</th>\n",
       "      <th>gaz_arch1886</th>\n",
       "      <th>rev_arch1903_2</th>\n",
       "      <th>collignon1898_corr</th>\n",
       "      <th>wagnon1885_corr</th>\n",
       "      <th>freq</th>\n",
       "    </tr>\n",
       "  </thead>\n",
       "  <tbody>\n",
       "    <tr>\n",
       "      <th>0</th>\n",
       "      <td>Athènes</td>\n",
       "      <td>22</td>\n",
       "      <td>5</td>\n",
       "      <td>21</td>\n",
       "      <td>79</td>\n",
       "      <td>40</td>\n",
       "      <td>2</td>\n",
       "      <td>10</td>\n",
       "      <td>7</td>\n",
       "      <td>5</td>\n",
       "      <td>...</td>\n",
       "      <td>14</td>\n",
       "      <td>19</td>\n",
       "      <td>54</td>\n",
       "      <td>22</td>\n",
       "      <td>61</td>\n",
       "      <td>10</td>\n",
       "      <td>16</td>\n",
       "      <td>1</td>\n",
       "      <td>4</td>\n",
       "      <td>6108</td>\n",
       "    </tr>\n",
       "    <tr>\n",
       "      <th>4</th>\n",
       "      <td>Pergame</td>\n",
       "      <td>2</td>\n",
       "      <td>2</td>\n",
       "      <td>15</td>\n",
       "      <td>9</td>\n",
       "      <td>9</td>\n",
       "      <td>0</td>\n",
       "      <td>5</td>\n",
       "      <td>0</td>\n",
       "      <td>0</td>\n",
       "      <td>...</td>\n",
       "      <td>9</td>\n",
       "      <td>2</td>\n",
       "      <td>3</td>\n",
       "      <td>6</td>\n",
       "      <td>2</td>\n",
       "      <td>10</td>\n",
       "      <td>13</td>\n",
       "      <td>0</td>\n",
       "      <td>0</td>\n",
       "      <td>2019</td>\n",
       "    </tr>\n",
       "    <tr>\n",
       "      <th>6</th>\n",
       "      <td>Sparte</td>\n",
       "      <td>3</td>\n",
       "      <td>0</td>\n",
       "      <td>3</td>\n",
       "      <td>37</td>\n",
       "      <td>9</td>\n",
       "      <td>0</td>\n",
       "      <td>1</td>\n",
       "      <td>0</td>\n",
       "      <td>0</td>\n",
       "      <td>...</td>\n",
       "      <td>4</td>\n",
       "      <td>2</td>\n",
       "      <td>4</td>\n",
       "      <td>8</td>\n",
       "      <td>1</td>\n",
       "      <td>0</td>\n",
       "      <td>0</td>\n",
       "      <td>0</td>\n",
       "      <td>3</td>\n",
       "      <td>1135</td>\n",
       "    </tr>\n",
       "    <tr>\n",
       "      <th>25</th>\n",
       "      <td>Samos</td>\n",
       "      <td>5</td>\n",
       "      <td>1</td>\n",
       "      <td>5</td>\n",
       "      <td>8</td>\n",
       "      <td>8</td>\n",
       "      <td>0</td>\n",
       "      <td>3</td>\n",
       "      <td>7</td>\n",
       "      <td>0</td>\n",
       "      <td>...</td>\n",
       "      <td>1</td>\n",
       "      <td>10</td>\n",
       "      <td>1</td>\n",
       "      <td>3</td>\n",
       "      <td>0</td>\n",
       "      <td>5</td>\n",
       "      <td>0</td>\n",
       "      <td>0</td>\n",
       "      <td>0</td>\n",
       "      <td>1040</td>\n",
       "    </tr>\n",
       "    <tr>\n",
       "      <th>27</th>\n",
       "      <td>Olympie</td>\n",
       "      <td>2</td>\n",
       "      <td>1</td>\n",
       "      <td>3</td>\n",
       "      <td>9</td>\n",
       "      <td>5</td>\n",
       "      <td>0</td>\n",
       "      <td>2</td>\n",
       "      <td>1</td>\n",
       "      <td>3</td>\n",
       "      <td>...</td>\n",
       "      <td>2</td>\n",
       "      <td>5</td>\n",
       "      <td>0</td>\n",
       "      <td>5</td>\n",
       "      <td>0</td>\n",
       "      <td>4</td>\n",
       "      <td>5</td>\n",
       "      <td>1</td>\n",
       "      <td>4</td>\n",
       "      <td>999</td>\n",
       "    </tr>\n",
       "  </tbody>\n",
       "</table>\n",
       "<p>5 rows × 277 columns</p>\n",
       "</div>"
      ],
      "text/plain": [
       "      lieux  rev_arch1872_2  rev_arch1914_2  BCH1886  BCH1896  \\\n",
       "0   Athènes              22               5       21       79   \n",
       "4   Pergame               2               2       15        9   \n",
       "6    Sparte               3               0        3       37   \n",
       "25    Samos               5               1        5        8   \n",
       "27  Olympie               2               1        3        9   \n",
       "\n",
       "    letronne1885_corr  seure1906_corr  rev_arch1884_1  ridder1901_corr  \\\n",
       "0                  40               2              10                7   \n",
       "4                   9               0               5                0   \n",
       "6                   9               0               1                0   \n",
       "25                  8               0               3                7   \n",
       "27                  5               0               2                1   \n",
       "\n",
       "    rev_arch1877_1  ...  rev_arch1906_2  rev_arch1894_2  BCH1877  \\\n",
       "0                5  ...              14              19       54   \n",
       "4                0  ...               9               2        3   \n",
       "6                0  ...               4               2        4   \n",
       "25               0  ...               1              10        1   \n",
       "27               3  ...               2               5        0   \n",
       "\n",
       "    daremberg4_1_1873  rev_arch1898_1  gaz_arch1886  rev_arch1903_2  \\\n",
       "0                  22              61            10              16   \n",
       "4                   6               2            10              13   \n",
       "6                   8               1             0               0   \n",
       "25                  3               0             5               0   \n",
       "27                  5               0             4               5   \n",
       "\n",
       "    collignon1898_corr  wagnon1885_corr  freq  \n",
       "0                    1                4  6108  \n",
       "4                    0                0  2019  \n",
       "6                    0                3  1135  \n",
       "25                   0                0  1040  \n",
       "27                   1                4   999  \n",
       "\n",
       "[5 rows x 277 columns]"
      ]
     },
     "execution_count": 19,
     "metadata": {},
     "output_type": "execute_result"
    }
   ],
   "source": [
    "results.head()"
   ]
  },
  {
   "cell_type": "code",
   "execution_count": 104,
   "metadata": {},
   "outputs": [
    {
     "data": {
      "text/plain": [
       "<bound method NDFrame.head of      toponymes  jdi1909  bwpr1887  schliemann1874  sauer1887  bwpr1893  \\\n",
       "7582       Der      190        18              66         19        73   \n",
       "137      Athen       50        29              34         17        33   \n",
       "7170      Auch       61         7              65         15        14   \n",
       "1493       Rom       38         1               1          0        92   \n",
       "224     Berlin       44        22               1          7        70   \n",
       "...        ...      ...       ...             ...        ...       ...   \n",
       "4456   Potsdam        0         0               0          0         0   \n",
       "7543    Byblos        0         0               0          0         0   \n",
       "3859  Akanthos        0         0               0          0         0   \n",
       "831      Kairo        4         0               0          0         0   \n",
       "725     Ikaria        0         0               0          0         0   \n",
       "\n",
       "      bwpr1891  mit_dai_ath1882  jdi1892  jdi1898  ...  winnefeld1887  \\\n",
       "7582        23              137      162      154  ...             56   \n",
       "137          1              116       54       38  ...             30   \n",
       "7170         9               40       59       60  ...              0   \n",
       "1493         0               12       22       25  ...              9   \n",
       "224          2               14       52       55  ...              2   \n",
       "...        ...              ...      ...      ...  ...            ...   \n",
       "4456         0                0        0        0  ...              0   \n",
       "7543         0                0        1        1  ...              0   \n",
       "3859         0                0        1        0  ...              0   \n",
       "831          0                0        1        0  ...              0   \n",
       "725          0                0        1        0  ...              0   \n",
       "\n",
       "      schliemann1891  thiersch1899  jdi1890  mit_dai_ath1893  hiller1903  \\\n",
       "7582              15            25      187              188         350   \n",
       "137                9             3      138              152          52   \n",
       "7170               7            11       79               76         241   \n",
       "1493               1             6      148                3           5   \n",
       "224                6            21      150               20          20   \n",
       "...              ...           ...      ...              ...         ...   \n",
       "4456               0             0        1                0           0   \n",
       "7543               0             0        2                0           0   \n",
       "3859               0             0        0                0           0   \n",
       "831                0             0        0                0           0   \n",
       "725                0             0        0                2           0   \n",
       "\n",
       "      conze1885  bwpr1894  mit_dai_ath1885   freq  \n",
       "7582        235         6              180  41522  \n",
       "137          98         0              107  21585  \n",
       "7170          9         3               46  15870  \n",
       "1493        209         3               28  14203  \n",
       "224          17         3               20   9501  \n",
       "...         ...       ...              ...    ...  \n",
       "4456          2         0                0    101  \n",
       "7543          0         0                0    100  \n",
       "3859          4         0                0    100  \n",
       "831           0         0                0    100  \n",
       "725           0         0                0    100  \n",
       "\n",
       "[205 rows x 269 columns]>"
      ]
     },
     "execution_count": 104,
     "metadata": {},
     "output_type": "execute_result"
    }
   ],
   "source": [
    "results2 = results[results.freq > 99] #on crée un second dataframe qui ne contient que les noms dont la fréquence est supérieure ou égale à 100\n",
    "results2.head"
   ]
  },
  {
   "cell_type": "code",
   "execution_count": 102,
   "metadata": {},
   "outputs": [],
   "source": [
    "results2 = results2.transpose(copy=False)"
   ]
  },
  {
   "cell_type": "code",
   "execution_count": 20,
   "metadata": {},
   "outputs": [],
   "source": [
    "results.to_csv(r'/home/angelique/Documents/these/reperage_EN/geog/export_python/results_lieux_fr_total_230131.csv') #on exporte"
   ]
  }
 ],
 "metadata": {
  "kernelspec": {
   "display_name": "Python 3",
   "language": "python",
   "name": "python3"
  },
  "language_info": {
   "codemirror_mode": {
    "name": "ipython",
    "version": 3
   },
   "file_extension": ".py",
   "mimetype": "text/x-python",
   "name": "python",
   "nbconvert_exporter": "python",
   "pygments_lexer": "ipython3",
   "version": "3.9.13"
  }
 },
 "nbformat": 4,
 "nbformat_minor": 4
}
